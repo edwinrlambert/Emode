{
 "cells": [
  {
   "cell_type": "markdown",
   "metadata": {},
   "source": [
    "# **Emotion Detection**"
   ]
  },
  {
   "cell_type": "markdown",
   "metadata": {},
   "source": [
    "## **Introduction**\n",
    "\n",
    "**Emode** is an emotion detection application that is written in Jupyter notebook using Python and various libraries.\n",
    "\n",
    "Emotion detection is the process of detecting a person's emotional state. Some of the common ways to detect emotion is by looking into facial features, voice signals etc.\n",
    "\n",
    "In this project, I'll be implementing three different types of emotion detection and finding a common pattern for a given input. The three types used here are:\n",
    "\n",
    "- Facial Recognition (using DeepFace)\n",
    "- Speech Recognition (using Librosa)\n",
    "- Text Recognition (using Neattext)"
   ]
  },
  {
   "cell_type": "markdown",
   "metadata": {},
   "source": [
    "## **Installing and Importing Libraries**\n",
    "\n",
    "In this project, we are going to use the following libraries:\n",
    "\n"
   ]
  },
  {
   "cell_type": "code",
   "execution_count": null,
   "metadata": {},
   "outputs": [],
   "source": [
    "# Install the necessary libraries."
   ]
  },
  {
   "cell_type": "code",
   "execution_count": null,
   "metadata": {},
   "outputs": [],
   "source": [
    "# Import the necessary libraries.\n",
    "import os\n",
    "import shutil"
   ]
  },
  {
   "cell_type": "markdown",
   "metadata": {},
   "source": [
    "## **Creating the folders required for the project**\n",
    "\n",
    "First, let's create the necessary folders so that we can organize and store different sets of files into different folders for processing."
   ]
  },
  {
   "cell_type": "code",
   "execution_count": null,
   "metadata": {},
   "outputs": [],
   "source": [
    "# Creating a list of all the required additional folders.\n",
    "folders = [\n",
    "    \"./logs\", \"./model\",\n",
    "    \"./media\", \"./media/audio\", \"./media/audio-chunks\", \"./media/video\", \"./media/documents\"\n",
    "]\n",
    "\n",
    "# Function to create folders.\n",
    "def create_and_clean_folders(folder):\n",
    "    if not os.path.exists(folder):\n",
    "        os.makedirs(folder)\n",
    "    elif folder in [\"./model/\", \"./media/audio\", \"./media/audio-chunks\", \"./media/documents\"]:\n",
    "        shutil.rmtree(folder)\n",
    "        os.makedirs(folder)\n",
    "        \n",
    "# Create the folders.\n",
    "for folder in folders:\n",
    "    create_and_clean_folders(folder)"
   ]
  }
 ],
 "metadata": {
  "kernelspec": {
   "display_name": "env",
   "language": "python",
   "name": "python3"
  },
  "language_info": {
   "codemirror_mode": {
    "name": "ipython",
    "version": 3
   },
   "file_extension": ".py",
   "mimetype": "text/x-python",
   "name": "python",
   "nbconvert_exporter": "python",
   "pygments_lexer": "ipython3",
   "version": "3.12.4"
  }
 },
 "nbformat": 4,
 "nbformat_minor": 2
}
